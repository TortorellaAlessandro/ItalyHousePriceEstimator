{
 "cells": [
  {
   "cell_type": "code",
   "execution_count": 1,
   "id": "c8b1598e",
   "metadata": {},
   "outputs": [],
   "source": [
    "import pandas as pd\n",
    "import seaborn as sns\n",
    "import matplotlib as plt\n",
    "import numpy as np\n",
    "import os\n",
    "\n",
    "BASE_DIR = os.path.abspath(\"\")\n",
    "CSV_PATH = os.path.join(BASE_DIR, \"data\", \"sale.csv\")"
   ]
  },
  {
   "cell_type": "code",
   "execution_count": 2,
   "id": "34d8eeac",
   "metadata": {},
   "outputs": [
    {
     "name": "stderr",
     "output_type": "stream",
     "text": [
      "C:\\Users\\aless\\AppData\\Local\\Temp\\ipykernel_25368\\2186986378.py:1: DtypeWarning: Columns (10,11) have mixed types. Specify dtype option on import or set low_memory=False.\n",
      "  df = pd.read_csv(CSV_PATH)\n"
     ]
    },
    {
     "data": {
      "text/html": [
       "<div>\n",
       "<style scoped>\n",
       "    .dataframe tbody tr th:only-of-type {\n",
       "        vertical-align: middle;\n",
       "    }\n",
       "\n",
       "    .dataframe tbody tr th {\n",
       "        vertical-align: top;\n",
       "    }\n",
       "\n",
       "    .dataframe thead th {\n",
       "        text-align: right;\n",
       "    }\n",
       "</style>\n",
       "<table border=\"1\" class=\"dataframe\">\n",
       "  <thead>\n",
       "    <tr style=\"text-align: right;\">\n",
       "      <th></th>\n",
       "      <th>regione</th>\n",
       "      <th>citta</th>\n",
       "      <th>quartiere</th>\n",
       "      <th>prezzo</th>\n",
       "      <th>datetime</th>\n",
       "      <th>posti auto</th>\n",
       "      <th>bagni per stanza</th>\n",
       "      <th>bagni</th>\n",
       "      <th>stanze</th>\n",
       "      <th>ultimo piano</th>\n",
       "      <th>...</th>\n",
       "      <th>giardino privato</th>\n",
       "      <th>impianto allarme</th>\n",
       "      <th>portiere</th>\n",
       "      <th>piscina</th>\n",
       "      <th>villa</th>\n",
       "      <th>intera proprieta</th>\n",
       "      <th>appartamento</th>\n",
       "      <th>attico</th>\n",
       "      <th>loft</th>\n",
       "      <th>mansarda</th>\n",
       "    </tr>\n",
       "  </thead>\n",
       "  <tbody>\n",
       "    <tr>\n",
       "      <th>0</th>\n",
       "      <td>sardegna</td>\n",
       "      <td>Valledoria</td>\n",
       "      <td>Via Alessandro Volta</td>\n",
       "      <td>78000.0</td>\n",
       "      <td>2022-12-17</td>\n",
       "      <td>0</td>\n",
       "      <td>0.333333</td>\n",
       "      <td>1.0</td>\n",
       "      <td>3.0</td>\n",
       "      <td>0</td>\n",
       "      <td>...</td>\n",
       "      <td>0</td>\n",
       "      <td>0</td>\n",
       "      <td>0</td>\n",
       "      <td>0</td>\n",
       "      <td>0</td>\n",
       "      <td>0</td>\n",
       "      <td>1</td>\n",
       "      <td>0</td>\n",
       "      <td>0</td>\n",
       "      <td>0</td>\n",
       "    </tr>\n",
       "    <tr>\n",
       "      <th>1</th>\n",
       "      <td>sardegna</td>\n",
       "      <td>San Teodoro</td>\n",
       "      <td>NaN</td>\n",
       "      <td>460000.0</td>\n",
       "      <td>2023-03-31</td>\n",
       "      <td>1</td>\n",
       "      <td>0.666667</td>\n",
       "      <td>2.0</td>\n",
       "      <td>3.0</td>\n",
       "      <td>1</td>\n",
       "      <td>...</td>\n",
       "      <td>0</td>\n",
       "      <td>0</td>\n",
       "      <td>1</td>\n",
       "      <td>1</td>\n",
       "      <td>0</td>\n",
       "      <td>0</td>\n",
       "      <td>1</td>\n",
       "      <td>0</td>\n",
       "      <td>0</td>\n",
       "      <td>0</td>\n",
       "    </tr>\n",
       "    <tr>\n",
       "      <th>2</th>\n",
       "      <td>sardegna</td>\n",
       "      <td>Cagliari</td>\n",
       "      <td>Fiera - Monte Mixi</td>\n",
       "      <td>387000.0</td>\n",
       "      <td>2023-04-18</td>\n",
       "      <td>0</td>\n",
       "      <td>0.500000</td>\n",
       "      <td>2.0</td>\n",
       "      <td>4.0</td>\n",
       "      <td>0</td>\n",
       "      <td>...</td>\n",
       "      <td>0</td>\n",
       "      <td>0</td>\n",
       "      <td>0</td>\n",
       "      <td>0</td>\n",
       "      <td>0</td>\n",
       "      <td>0</td>\n",
       "      <td>1</td>\n",
       "      <td>0</td>\n",
       "      <td>0</td>\n",
       "      <td>0</td>\n",
       "    </tr>\n",
       "    <tr>\n",
       "      <th>3</th>\n",
       "      <td>sardegna</td>\n",
       "      <td>Cagliari</td>\n",
       "      <td>Piazza Giovanni XXIII</td>\n",
       "      <td>257000.0</td>\n",
       "      <td>2023-04-14</td>\n",
       "      <td>0</td>\n",
       "      <td>0.400000</td>\n",
       "      <td>2.0</td>\n",
       "      <td>5.0</td>\n",
       "      <td>0</td>\n",
       "      <td>...</td>\n",
       "      <td>0</td>\n",
       "      <td>0</td>\n",
       "      <td>0</td>\n",
       "      <td>0</td>\n",
       "      <td>0</td>\n",
       "      <td>0</td>\n",
       "      <td>1</td>\n",
       "      <td>0</td>\n",
       "      <td>0</td>\n",
       "      <td>0</td>\n",
       "    </tr>\n",
       "    <tr>\n",
       "      <th>4</th>\n",
       "      <td>sardegna</td>\n",
       "      <td>Budoni</td>\n",
       "      <td>Località Baia Sant'Anna</td>\n",
       "      <td>370000.0</td>\n",
       "      <td>2023-03-31</td>\n",
       "      <td>1</td>\n",
       "      <td>0.666667</td>\n",
       "      <td>2.0</td>\n",
       "      <td>3.0</td>\n",
       "      <td>0</td>\n",
       "      <td>...</td>\n",
       "      <td>1</td>\n",
       "      <td>0</td>\n",
       "      <td>0</td>\n",
       "      <td>0</td>\n",
       "      <td>1</td>\n",
       "      <td>0</td>\n",
       "      <td>0</td>\n",
       "      <td>0</td>\n",
       "      <td>0</td>\n",
       "      <td>0</td>\n",
       "    </tr>\n",
       "  </tbody>\n",
       "</table>\n",
       "<p>5 rows × 33 columns</p>\n",
       "</div>"
      ],
      "text/plain": [
       "    regione        citta                quartiere    prezzo    datetime  \\\n",
       "0  sardegna   Valledoria     Via Alessandro Volta   78000.0  2022-12-17   \n",
       "1  sardegna  San Teodoro                      NaN  460000.0  2023-03-31   \n",
       "2  sardegna     Cagliari       Fiera - Monte Mixi  387000.0  2023-04-18   \n",
       "3  sardegna     Cagliari    Piazza Giovanni XXIII  257000.0  2023-04-14   \n",
       "4  sardegna       Budoni  Località Baia Sant'Anna  370000.0  2023-03-31   \n",
       "\n",
       "   posti auto  bagni per stanza  bagni  stanze  ultimo piano  ...  \\\n",
       "0           0          0.333333    1.0     3.0             0  ...   \n",
       "1           1          0.666667    2.0     3.0             1  ...   \n",
       "2           0          0.500000    2.0     4.0             0  ...   \n",
       "3           0          0.400000    2.0     5.0             0  ...   \n",
       "4           1          0.666667    2.0     3.0             0  ...   \n",
       "\n",
       "  giardino privato impianto allarme  portiere  piscina  villa  \\\n",
       "0                0                0         0        0      0   \n",
       "1                0                0         1        1      0   \n",
       "2                0                0         0        0      0   \n",
       "3                0                0         0        0      0   \n",
       "4                1                0         0        0      1   \n",
       "\n",
       "   intera proprieta  appartamento  attico  loft  mansarda  \n",
       "0                 0             1       0     0         0  \n",
       "1                 0             1       0     0         0  \n",
       "2                 0             1       0     0         0  \n",
       "3                 0             1       0     0         0  \n",
       "4                 0             0       0     0         0  \n",
       "\n",
       "[5 rows x 33 columns]"
      ]
     },
     "execution_count": 2,
     "metadata": {},
     "output_type": "execute_result"
    }
   ],
   "source": [
    "df = pd.read_csv(CSV_PATH)\n",
    "df.head()"
   ]
  },
  {
   "cell_type": "code",
   "execution_count": 3,
   "id": "a21cc764",
   "metadata": {},
   "outputs": [
    {
     "data": {
      "text/plain": [
       "regione                        37087\n",
       "datetime                       37087\n",
       "posti auto                     37087\n",
       "balcone                        37087\n",
       "ultimo piano                   37087\n",
       "arredato                       37087\n",
       "villa                          37087\n",
       "piscina                        37087\n",
       "portiere                       37087\n",
       "impianto allarme               37087\n",
       "giardino privato               37087\n",
       "giardino comune                37087\n",
       "cantina                        37087\n",
       "cancello elettrico             37087\n",
       "fibra ottica                   37087\n",
       "esposizione esterna            37087\n",
       "impianto tv                    37087\n",
       "appartamento                   37087\n",
       "attico                         37087\n",
       "loft                           37087\n",
       "intera proprieta               37087\n",
       "mansarda                       37087\n",
       "vista mare                     37082\n",
       "citta                          37080\n",
       "bagni                          36480\n",
       "prezzo                         35534\n",
       "quartiere                      35154\n",
       "superficie                     29813\n",
       "stanze                         29399\n",
       "bagni per stanza               29155\n",
       "stato                           8013\n",
       "riscaldamento centralizzato     6336\n",
       "classe energetica               6131\n",
       "dtype: int64"
      ]
     },
     "execution_count": 3,
     "metadata": {},
     "output_type": "execute_result"
    }
   ],
   "source": [
    "df.count().sort_values(ascending= False)"
   ]
  },
  {
   "cell_type": "code",
   "execution_count": 4,
   "id": "b9729b83",
   "metadata": {},
   "outputs": [
    {
     "data": {
      "text/plain": [
       "count    3.553400e+04\n",
       "mean     4.289680e+31\n",
       "std      2.383630e+33\n",
       "min      1.000000e+00\n",
       "25%      7.900000e+04\n",
       "50%      2.390000e+05\n",
       "75%      4.620000e+05\n",
       "max      1.950000e+35\n",
       "Name: prezzo, dtype: float64"
      ]
     },
     "execution_count": 4,
     "metadata": {},
     "output_type": "execute_result"
    }
   ],
   "source": [
    "df[\"prezzo\"].describe()"
   ]
  },
  {
   "cell_type": "code",
   "execution_count": 5,
   "id": "d2faaf0a",
   "metadata": {},
   "outputs": [],
   "source": [
    "# Dato che ci sono valori impossibilmente grandi li rimouvo:\n",
    "Q1 = df[\"prezzo\"].quantile(0.25)\n",
    "Q3 = df[\"prezzo\"].quantile(0.75)\n",
    "IQR = Q3 - Q1\n",
    "\n",
    "df = df[(df[\"prezzo\"] >max(Q1 - 1.5*IQR, 50000)) & (df[\"prezzo\"] < Q3 + 1.5*IQR)]"
   ]
  },
  {
   "cell_type": "code",
   "execution_count": 6,
   "id": "f0b146ee",
   "metadata": {},
   "outputs": [
    {
     "name": "stdout",
     "output_type": "stream",
     "text": [
      "<class 'pandas.core.frame.DataFrame'>\n",
      "Index: 23232 entries, 0 to 37085\n",
      "Data columns (total 33 columns):\n",
      " #   Column                       Non-Null Count  Dtype  \n",
      "---  ------                       --------------  -----  \n",
      " 0   regione                      23232 non-null  object \n",
      " 1   citta                        23226 non-null  object \n",
      " 2   quartiere                    22084 non-null  object \n",
      " 3   prezzo                       23232 non-null  float64\n",
      " 4   datetime                     23232 non-null  object \n",
      " 5   posti auto                   23232 non-null  int64  \n",
      " 6   bagni per stanza             18805 non-null  float64\n",
      " 7   bagni                        22981 non-null  float64\n",
      " 8   stanze                       18909 non-null  float64\n",
      " 9   ultimo piano                 23232 non-null  int64  \n",
      " 10  stato                        3 non-null      object \n",
      " 11  classe energetica            3 non-null      object \n",
      " 12  vista mare                   23232 non-null  float64\n",
      " 13  riscaldamento centralizzato  3 non-null      float64\n",
      " 14  superficie                   18924 non-null  float64\n",
      " 15  arredato                     23232 non-null  int64  \n",
      " 16  balcone                      23232 non-null  int64  \n",
      " 17  impianto tv                  23232 non-null  int64  \n",
      " 18  esposizione esterna          23232 non-null  int64  \n",
      " 19  fibra ottica                 23232 non-null  int64  \n",
      " 20  cancello elettrico           23232 non-null  int64  \n",
      " 21  cantina                      23232 non-null  int64  \n",
      " 22  giardino comune              23232 non-null  int64  \n",
      " 23  giardino privato             23232 non-null  int64  \n",
      " 24  impianto allarme             23232 non-null  int64  \n",
      " 25  portiere                     23232 non-null  int64  \n",
      " 26  piscina                      23232 non-null  int64  \n",
      " 27  villa                        23232 non-null  int64  \n",
      " 28  intera proprieta             23232 non-null  int64  \n",
      " 29  appartamento                 23232 non-null  int64  \n",
      " 30  attico                       23232 non-null  int64  \n",
      " 31  loft                         23232 non-null  int64  \n",
      " 32  mansarda                     23232 non-null  int64  \n",
      "dtypes: float64(7), int64(20), object(6)\n",
      "memory usage: 6.0+ MB\n"
     ]
    }
   ],
   "source": [
    "# Rimuovo tutte le righe che hanno Nan nella mia variabile target:\n",
    "df = df.dropna(subset= [\"prezzo\"])\n",
    "df.info()"
   ]
  },
  {
   "cell_type": "code",
   "execution_count": 7,
   "id": "f4a88693",
   "metadata": {},
   "outputs": [
    {
     "data": {
      "text/plain": [
       "['prezzo',\n",
       " 'bagni',\n",
       " 'superficie',\n",
       " 'stanze',\n",
       " 'portiere',\n",
       " 'bagni per stanza',\n",
       " 'villa',\n",
       " 'appartamento',\n",
       " 'regione',\n",
       " 'citta',\n",
       " 'superficie/stanze']"
      ]
     },
     "execution_count": 7,
     "metadata": {},
     "output_type": "execute_result"
    }
   ],
   "source": [
    "# Cerco i valori piu strettamente correlati al prezzo e quelli che ha senso considerare:\n",
    "corr_matrix = df.corr(numeric_only= True, method= \"spearman\")\n",
    "\n",
    "check_value = 0.2\n",
    "\n",
    "strong_corr = corr_matrix[(corr_matrix >= check_value)|(corr_matrix <= - check_value)]\n",
    "strong_corr_target = strong_corr[\"prezzo\"].dropna().sort_values(ascending= False)\n",
    "column_variables = strong_corr_target.head(15).index\n",
    "column_variables = column_variables.tolist()\n",
    "column_variables.append(\"regione\")\n",
    "column_variables.append(\"citta\")\n",
    "column_variables.append(\"superficie/stanze\")\n",
    "df[\"superficie/stanze\"] = df[\"superficie\"] / df[\"stanze\"]\n",
    "column_variables"
   ]
  },
  {
   "cell_type": "code",
   "execution_count": 8,
   "id": "c0fe419c",
   "metadata": {},
   "outputs": [],
   "source": [
    "# Creo il modello usando una pipeline:\n",
    "from sklearn.pipeline import Pipeline\n",
    "from sklearn.compose import ColumnTransformer\n",
    "from sklearn.impute import SimpleImputer\n",
    "from sklearn.preprocessing import OrdinalEncoder\n",
    "from sklearn.ensemble import RandomForestRegressor\n",
    "from sklearn.model_selection import GridSearchCV\n",
    "\n",
    "column_variables.remove(\"prezzo\")\n",
    "\n",
    "cat_col = [\"citta\", \"regione\"]\n",
    "num_col = [col for col in column_variables if col not in cat_col]\n",
    "\n",
    "num_tfr = SimpleImputer(strategy= \"mean\")\n",
    "\n",
    "cat_tfr = Pipeline(steps=[\n",
    "    (\"imputer\", SimpleImputer(strategy= \"most_frequent\")),\n",
    "    (\"encoder\", OrdinalEncoder(handle_unknown= \"use_encoded_value\", unknown_value= -1))\n",
    "])\n",
    "\n",
    "regressor = RandomForestRegressor(n_estimators= 200, random_state= 3)\n",
    "\n",
    "preprocessor = ColumnTransformer(transformers=[\n",
    "    (\"num\", num_tfr, num_col),\n",
    "    (\"cat\", cat_tfr, cat_col)\n",
    "])\n",
    "\n",
    "my_pipeline = Pipeline(steps=[\n",
    "    (\"preprocessor\", preprocessor),\n",
    "    (\"regressor\", regressor)\n",
    "])"
   ]
  },
  {
   "cell_type": "code",
   "execution_count": 9,
   "id": "6c64b0ee",
   "metadata": {},
   "outputs": [
    {
     "data": {
      "text/plain": [
       "count    2.323200e+04\n",
       "mean     3.280921e+05\n",
       "std      2.056592e+05\n",
       "min      5.060000e+04\n",
       "25%      1.760000e+05\n",
       "50%      2.750000e+05\n",
       "75%      4.200000e+05\n",
       "max      1.030000e+06\n",
       "Name: prezzo, dtype: float64"
      ]
     },
     "execution_count": 9,
     "metadata": {},
     "output_type": "execute_result"
    }
   ],
   "source": [
    "df[\"prezzo\"].describe()"
   ]
  },
  {
   "cell_type": "code",
   "execution_count": 10,
   "id": "fe49bf88",
   "metadata": {},
   "outputs": [],
   "source": [
    "X = df[column_variables]\n",
    "y = df[\"prezzo\"]\n",
    "\n",
    "param_grid = {\n",
    "    \"regressor__n_estimators\" : [550],\n",
    "    \"regressor__max_depth\" : [30],\n",
    "    \"regressor__min_samples_split\" : [2],\n",
    "    \"regressor__min_samples_leaf\" : [1]\n",
    "}\n",
    "\n",
    "grid_search = GridSearchCV(\n",
    "    estimator = my_pipeline,\n",
    "    param_grid = param_grid,\n",
    "    cv = 5,\n",
    "    scoring = \"neg_mean_squared_error\",\n",
    "    n_jobs = -1\n",
    ")\n",
    "\n",
    "grid_search.fit(X, y)\n",
    "\n",
    "RMSE = np.sqrt(-grid_search.best_score_)"
   ]
  },
  {
   "cell_type": "code",
   "execution_count": 11,
   "id": "8304c402",
   "metadata": {},
   "outputs": [
    {
     "data": {
      "text/plain": [
       "35.297404799101464"
      ]
     },
     "execution_count": 11,
     "metadata": {},
     "output_type": "execute_result"
    }
   ],
   "source": [
    "RMSE_percentage = RMSE/df[\"prezzo\"].mean() * 100\n",
    "float(RMSE_percentage)"
   ]
  },
  {
   "cell_type": "markdown",
   "id": "e0f2f5bb",
   "metadata": {},
   "source": [
    "Sono arrivato al punto di saturazione per gli improvement dovuti all'aggiustamento dei parametri. Ora per ottenere ulteriori miglioramenti posso solo migliorare modello e/o feature.\n",
    "Una feature che posso creare per provare a migliorare il mio score è: superficie/stanze; prima dell'aggiunta arrivo a 35.38, a seguito dell'aggiunta: 35.29."
   ]
  },
  {
   "cell_type": "code",
   "execution_count": null,
   "id": "0d6506c9",
   "metadata": {},
   "outputs": [
    {
     "data": {
      "text/plain": [
       "['HousePredictionRegressor.pkl']"
      ]
     },
     "execution_count": 12,
     "metadata": {},
     "output_type": "execute_result"
    }
   ],
   "source": [
    "import joblib\n",
    "\n",
    "joblib.dump(grid_search.best_estimator_, \"HousePredictionRegressor.pkl\")"
   ]
  }
 ],
 "metadata": {
  "kernelspec": {
   "display_name": "Python 3",
   "language": "python",
   "name": "python3"
  },
  "language_info": {
   "codemirror_mode": {
    "name": "ipython",
    "version": 3
   },
   "file_extension": ".py",
   "mimetype": "text/x-python",
   "name": "python",
   "nbconvert_exporter": "python",
   "pygments_lexer": "ipython3",
   "version": "3.11.2"
  }
 },
 "nbformat": 4,
 "nbformat_minor": 5
}
